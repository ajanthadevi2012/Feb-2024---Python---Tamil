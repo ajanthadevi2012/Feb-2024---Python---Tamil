{
 "cells": [
  {
   "cell_type": "markdown",
   "metadata": {},
   "source": [
    "# Python List\n",
    "\n",
    "In this session, we'll learn everything about Python lists, how they are created, slicing of a list, adding or removing elements from them and so on.\n",
    "\n",
    "Python offers a range of compound data types often referred to as sequences. List is one of the most frequently used and very versatile data types used in Python."
   ]
  },
  {
   "cell_type": "markdown",
   "metadata": {
    "heading_collapsed": true
   },
   "source": [
    "## What is List in Python?\n",
    "\n",
    "Python list is a **data structure** which is used to store various types of data.In Python, lists are **mutable** i.e., Python will not create a new list if we modify an element of the list.\n",
    "\n",
    "It works as a container that holds other objects in a given order. We can perform various operations like insertion and deletion on list. A list can be composed by storing a **sequence** of different type of values **separated by commas**."
   ]
  },
  {
   "cell_type": "markdown",
   "metadata": {},
   "source": [
    "### Summary\n",
    "\n",
    "| Data types     | Type          |         |\n",
    "| :------------: | :-----------: |:------: |\n",
    "| **String**     | **immutable** |  |\n",
    "| **List**       | **mutable**   |✎|"
   ]
  },
  {
   "cell_type": "markdown",
   "metadata": {},
   "source": [
    "## Creating Python List\n",
    "\n",
    "In Python programming, a list is created by placing all the items (elements) inside **square brackets `[]`**, separated by **commas** **`,`**. All the elements in list are stored in the index basis with starting index **0**.\n",
    "\n",
    "It can have any number of items and they may be of different types (integer, float, string etc.).\n",
    "\n",
    "<div>\n",
    "<img src=\"img/l0.png\" width=\"600\"/>\n",
    "</div>\n",
    "\n",
    "**Syantax:** \n",
    "\n",
    "```python\n",
    "<list_name>=[value1,value2,value3,...,valuen] \n",
    "```"
   ]
  },
  {
   "cell_type": "code",
   "execution_count": 1,
   "metadata": {
    "ExecuteTime": {
     "end_time": "2021-10-03T09:17:05.188178Z",
     "start_time": "2021-10-03T09:17:05.168649Z"
    }
   },
   "outputs": [
    {
     "name": "stdout",
     "output_type": "stream",
     "text": [
      "[]\n",
      "0\n"
     ]
    }
   ],
   "source": [
    "# Example:\n",
    "\n",
    "# empty list, no item in the list\n",
    "my_list = []  \n",
    "print(my_list)      # ▶ ()\n",
    "print(len(my_list)) # ▶ 0\n"
   ]
  },
  {
   "cell_type": "code",
   "execution_count": 2,
   "metadata": {},
   "outputs": [
    {
     "name": "stdout",
     "output_type": "stream",
     "text": [
      "[1, 2, 3]\n"
     ]
    }
   ],
   "source": [
    "\n",
    "# list of integers\n",
    "my_list1 = [1, 2, 3]  \n",
    "print(my_list1)     # ▶ [1, 2, 3]\n",
    "\n"
   ]
  },
  {
   "cell_type": "code",
   "execution_count": 3,
   "metadata": {},
   "outputs": [
    {
     "name": "stdout",
     "output_type": "stream",
     "text": [
      "[1, 'Hello', 3.4]\n"
     ]
    }
   ],
   "source": [
    "# list with mixed data types\n",
    "my_list2 = [1, \"Hello\", 3.4]\n",
    "print(my_list2)     # ▶ [1, 'Hello', 3.4]\n"
   ]
  },
  {
   "cell_type": "code",
   "execution_count": 4,
   "metadata": {},
   "outputs": [
    {
     "name": "stdout",
     "output_type": "stream",
     "text": [
      "['mouse', [9, 3, 6], ['a']]\n"
     ]
    }
   ],
   "source": [
    "\n",
    "# nested list\n",
    "my_list3 = [\"mouse\", [9, 3, 6], ['a']]\n",
    "print(my_list3)     # ▶ [\"mouse\", [9, 3, 6], ['a']]\n"
   ]
  },
  {
   "cell_type": "code",
   "execution_count": 5,
   "metadata": {},
   "outputs": [
    {
     "data": {
      "text/plain": [
       "3"
      ]
     },
     "execution_count": 5,
     "metadata": {},
     "output_type": "execute_result"
    }
   ],
   "source": [
    "len(my_list3)"
   ]
  },
  {
   "cell_type": "code",
   "execution_count": 6,
   "metadata": {},
   "outputs": [
    {
     "name": "stdout",
     "output_type": "stream",
     "text": [
      "['foo', 'bar', 'baz', 'quz', 'quux', 'corge']\n"
     ]
    }
   ],
   "source": [
    "\n",
    "my_list4=['foo','bar','baz','quz','quux','corge']\n",
    "print(my_list4)     # ▶ ['foo','bar','baz','quz','quux','corge']\n"
   ]
  },
  {
   "cell_type": "code",
   "execution_count": 7,
   "metadata": {},
   "outputs": [
    {
     "name": "stdout",
     "output_type": "stream",
     "text": [
      "[1, 2, 3, 4, 4.5, 'helloworld', 'X']\n"
     ]
    }
   ],
   "source": [
    "\n",
    "my_list5=[1,2,3,4,4.5,'helloworld','X']\n",
    "print(my_list5)     # ▶ [1,2,3,4,4.5,'helloworld','X']"
   ]
  },
  {
   "cell_type": "markdown",
   "metadata": {},
   "source": [
    "## Access elements from a list\n",
    "\n",
    "There are various ways in which we can access the elements of a list."
   ]
  },
  {
   "cell_type": "markdown",
   "metadata": {},
   "source": [
    "### List Index\n",
    "\n",
    "We can use the index operator **`[]`** to access an item in a list. In Python, indices start at 0. So, a list having 5 elements will have an index from 0 to 4.\n",
    "\n",
    "Trying to access indexes other than these will raise an **`IndexError`**. The index must be an integer. We can't use float or other types, this will result in **`TypeError`**.\n",
    "\n",
    "Nested lists are accessed using nested indexing."
   ]
  },
  {
   "cell_type": "markdown",
   "metadata": {},
   "source": [
    "<div>\n",
    "<img src=\"img/l6_1.png\" width=\"400\"/>\n",
    "</div>"
   ]
  },
  {
   "cell_type": "code",
   "execution_count": 8,
   "metadata": {
    "ExecuteTime": {
     "end_time": "2021-10-03T09:17:05.870808Z",
     "start_time": "2021-10-03T09:17:05.197947Z"
    },
    "scrolled": true
   },
   "outputs": [
    {
     "name": "stdout",
     "output_type": "stream",
     "text": [
      "p\n",
      "o\n",
      "e\n"
     ]
    }
   ],
   "source": [
    "# Example: List indexing\n",
    "\n",
    "my_list = ['p', 'r', 'o', 'b', 'e']\n",
    "\n",
    "print(my_list[0]) # ▶  p\n",
    "print(my_list[2]) # ▶  o\n",
    "print(my_list[4]) # ▶  e"
   ]
  },
  {
   "cell_type": "code",
   "execution_count": 9,
   "metadata": {},
   "outputs": [
    {
     "name": "stdout",
     "output_type": "stream",
     "text": [
      "a\n",
      "5\n"
     ]
    }
   ],
   "source": [
    "# Nested List\n",
    "n_list = [\"Happy\", [2, 0, 1, 5]]\n",
    "\n",
    "# Nested indexing\n",
    "print(n_list[0][1]) # ▶ a\n",
    "print(n_list[1][3]) # ▶ 5"
   ]
  },
  {
   "cell_type": "code",
   "execution_count": 10,
   "metadata": {},
   "outputs": [
    {
     "ename": "TypeError",
     "evalue": "list indices must be integers or slices, not float",
     "output_type": "error",
     "traceback": [
      "\u001b[1;31m---------------------------------------------------------------------------\u001b[0m",
      "\u001b[1;31mTypeError\u001b[0m                                 Traceback (most recent call last)",
      "\u001b[1;32m~\\AppData\\Local\\Temp\\ipykernel_16848\\158147969.py\u001b[0m in \u001b[0;36m<module>\u001b[1;34m\u001b[0m\n\u001b[1;32m----> 1\u001b[1;33m \u001b[0mprint\u001b[0m\u001b[1;33m(\u001b[0m\u001b[0mmy_list\u001b[0m\u001b[1;33m[\u001b[0m\u001b[1;36m4.0\u001b[0m\u001b[1;33m]\u001b[0m\u001b[1;33m)\u001b[0m \u001b[1;31m# ▶ TypeError: list indices must be integers or slices, not float\u001b[0m\u001b[1;33m\u001b[0m\u001b[1;33m\u001b[0m\u001b[0m\n\u001b[0m",
      "\u001b[1;31mTypeError\u001b[0m: list indices must be integers or slices, not float"
     ]
    }
   ],
   "source": [
    "print(my_list[4.0]) # ▶ TypeError: list indices must be integers or slices, not float"
   ]
  },
  {
   "cell_type": "markdown",
   "metadata": {},
   "source": [
    "### Negative indexing\n",
    "\n",
    "Python allows negative indexing for its sequences. The index of -1 refers to the last item, -2 to the second last item and so on."
   ]
  },
  {
   "cell_type": "code",
   "execution_count": 11,
   "metadata": {
    "ExecuteTime": {
     "end_time": "2021-10-03T09:17:21.693159Z",
     "start_time": "2021-10-03T09:17:21.675586Z"
    }
   },
   "outputs": [
    {
     "name": "stdout",
     "output_type": "stream",
     "text": [
      "e\n",
      "p\n"
     ]
    }
   ],
   "source": [
    "# Example: Negative indexing in lists\n",
    "\n",
    "# Python allows negative indexing for its sequences. \n",
    "#The index of -1 refers to the last item, -2 to the second last item and so on.\n",
    "\n",
    "my_list = ['p','r','o','b','e']\n",
    "\n",
    "print(my_list[-1])  # ▶ e\n",
    "print(my_list[-5])  # ▶ p"
   ]
  },
  {
   "cell_type": "markdown",
   "metadata": {},
   "source": [
    "### How to slice lists in Python?\n",
    "\n",
    "We can access a range of items in a list by using the slicing operator **`:`**(colon).\n",
    "\n",
    "**Syntax:**\n",
    "\n",
    "```python\n",
    "<list_name>[start : stop : step]\n",
    "```"
   ]
  },
  {
   "cell_type": "code",
   "execution_count": 12,
   "metadata": {
    "ExecuteTime": {
     "end_time": "2021-10-03T09:17:23.231742Z",
     "start_time": "2021-10-03T09:17:23.210264Z"
    }
   },
   "outputs": [
    {
     "name": "stdout",
     "output_type": "stream",
     "text": [
      "['o', 'g', 'r']\n",
      "['p', 'r', 'o', 'g', 'r']\n",
      "['a', 'm', 'i', 'n', 'g']\n"
     ]
    }
   ],
   "source": [
    "# Example: List slicing in Python\n",
    "\n",
    "my_list = ['p','r','o','g','r','a','m','i','n','g']\n",
    "# indes   [ 0   1   2   3   4   5   6   7   8   9 ]\n",
    "# index   [-10 -9  -8  -7  -6  -5  -4  -3  -2  -1 ]\n",
    "\n",
    "print(my_list[2:5])   # ▶ ['o', 'g', 'r'] ∵ elements 3rd to 4th\n",
    "print(my_list[:-5])   # ▶ ['p', 'r', 'o', 'g', 'r'] ∵ elements beginning to 4th\n",
    "print(my_list[5:])    # ▶ ['a', 'm', 'i', 'n', 'g'] ∵ elements 5th to end\n",
    "\n"
   ]
  },
  {
   "cell_type": "code",
   "execution_count": 13,
   "metadata": {},
   "outputs": [
    {
     "name": "stdout",
     "output_type": "stream",
     "text": [
      "['p', 'r', 'o', 'g', 'r', 'a', 'm', 'i', 'n', 'g']\n"
     ]
    }
   ],
   "source": [
    "# elements beginning to end\n",
    "print(my_list[:])     # ▶ ('p', 'r', 'o', 'g', 'r', 'a', 'm', 'i', 'n','g')"
   ]
  },
  {
   "cell_type": "markdown",
   "metadata": {},
   "source": [
    "Slicing can be best visualized by considering the index to be between the elements as shown below. So if we want to access a range, we need two indices that will slice that portion from the list.\n",
    "\n",
    "<div>\n",
    "<img src=\"img/l6_2.png\" width=\"350\"/>\n",
    "</div>"
   ]
  },
  {
   "cell_type": "markdown",
   "metadata": {},
   "source": [
    ">**NOTE:** Internal Memory Organization:\n",
    "\n",
    ">List do not store the elements directly at the index. In fact a reference is stored at each index which subsequently refers to the object stored somewhere in the memory. This is due to the fact that some objects may be large enough than other objects and hence they are stored at some other memory location."
   ]
  },
  {
   "cell_type": "code",
   "execution_count": 14,
   "metadata": {
    "ExecuteTime": {
     "end_time": "2021-10-03T09:17:21.893355Z",
     "start_time": "2021-10-03T09:17:21.869437Z"
    },
    "scrolled": false
   },
   "outputs": [
    {
     "name": "stdout",
     "output_type": "stream",
     "text": [
      "baz\n",
      "['foo', 'bar', 'baz', 'quz', 'quux', 'corge']\n",
      "['quux', 'corge']\n",
      "['baz', 'quz', 'quux']\n",
      "['bar', 'quz']\n"
     ]
    }
   ],
   "source": [
    "# Example:\n",
    "\n",
    "list=['foo','bar','baz','quz','quux','corge']\n",
    "\n",
    "print(list[2])         # ▶ baz\n",
    "print(list[0:])        # ▶ ['foo', 'bar', 'baz', 'quz', 'quux', 'corge'] ∵ if we don't set where to stop it takes all the rest\n",
    "print(list[4:6])       # ▶ ['quux', 'corge']\n",
    "print(list[-4:-1])     # ▶ ['baz', 'quz', 'quux'] ∵ it does not include the end index\n",
    "print(list[1:5:2])     # ▶ ['bar', 'quz'] ∵ it does not include the end index\n"
   ]
  },
  {
   "cell_type": "code",
   "execution_count": 15,
   "metadata": {},
   "outputs": [
    {
     "name": "stdout",
     "output_type": "stream",
     "text": [
      "['corge', 'quux', 'quz', 'baz', 'bar', 'foo']\n",
      "corge\n",
      "quux\n",
      "5\n"
     ]
    }
   ],
   "source": [
    "print(list[-1: :-1])   # ▶ ['corge', 'quux', 'quz', 'baz', 'bar', 'foo'] ∵ reverse list\n",
    "print(list[-1])        # ▶ corge ∵ last element\n",
    "print(list[-2])        # ▶ quux ∵ second last element\n",
    "print(len(list)-1)     # ▶ 5 ∵ index of last element"
   ]
  },
  {
   "cell_type": "code",
   "execution_count": 16,
   "metadata": {},
   "outputs": [
    {
     "data": {
      "text/plain": [
       "'corge'"
      ]
     },
     "execution_count": 16,
     "metadata": {},
     "output_type": "execute_result"
    }
   ],
   "source": [
    "list[len(list)-1]"
   ]
  },
  {
   "cell_type": "markdown",
   "metadata": {},
   "source": [
    "## Python List Operations\n",
    "\n",
    "Apart from creating and accessing elements from the list, Python allows us to perform various other operations on the list. Some common operations are given below:"
   ]
  },
  {
   "cell_type": "markdown",
   "metadata": {},
   "source": [
    "### Add/Change List Elements\n"
   ]
  },
  {
   "cell_type": "code",
   "execution_count": 17,
   "metadata": {},
   "outputs": [],
   "source": [
    "odd = [2,4,6,8]"
   ]
  },
  {
   "cell_type": "code",
   "execution_count": 18,
   "metadata": {},
   "outputs": [
    {
     "data": {
      "text/plain": [
       "[2, 4, 6, 8]"
      ]
     },
     "execution_count": 18,
     "metadata": {},
     "output_type": "execute_result"
    }
   ],
   "source": [
    "odd"
   ]
  },
  {
   "cell_type": "code",
   "execution_count": 19,
   "metadata": {},
   "outputs": [
    {
     "data": {
      "text/plain": [
       "2"
      ]
     },
     "execution_count": 19,
     "metadata": {},
     "output_type": "execute_result"
    }
   ],
   "source": [
    "odd[0]"
   ]
  },
  {
   "cell_type": "code",
   "execution_count": 20,
   "metadata": {},
   "outputs": [],
   "source": [
    "odd[0] = 1 # change => index"
   ]
  },
  {
   "cell_type": "code",
   "execution_count": 21,
   "metadata": {
    "scrolled": true
   },
   "outputs": [
    {
     "data": {
      "text/plain": [
       "[1, 4, 6, 8]"
      ]
     },
     "execution_count": 21,
     "metadata": {},
     "output_type": "execute_result"
    }
   ],
   "source": [
    "odd"
   ]
  },
  {
   "cell_type": "code",
   "execution_count": 22,
   "metadata": {},
   "outputs": [],
   "source": [
    "odd[1:4] = [3,5,7] # change more than one => slicing"
   ]
  },
  {
   "cell_type": "code",
   "execution_count": 23,
   "metadata": {},
   "outputs": [
    {
     "data": {
      "text/plain": [
       "[1, 3, 5, 7]"
      ]
     },
     "execution_count": 23,
     "metadata": {},
     "output_type": "execute_result"
    }
   ],
   "source": [
    "odd"
   ]
  },
  {
   "cell_type": "code",
   "execution_count": 24,
   "metadata": {},
   "outputs": [
    {
     "data": {
      "text/plain": [
       "[1, 3, 5, 7, 9]"
      ]
     },
     "execution_count": 24,
     "metadata": {},
     "output_type": "execute_result"
    }
   ],
   "source": [
    "odd.append(9) # adding at the lst=> one elem\n",
    "odd"
   ]
  },
  {
   "cell_type": "code",
   "execution_count": 25,
   "metadata": {},
   "outputs": [],
   "source": [
    "odd.extend([11,13,15]) # add last => more than one ele"
   ]
  },
  {
   "cell_type": "code",
   "execution_count": 26,
   "metadata": {},
   "outputs": [
    {
     "data": {
      "text/plain": [
       "[1, 3, 5, 7, 9, 11, 13, 15]"
      ]
     },
     "execution_count": 26,
     "metadata": {},
     "output_type": "execute_result"
    }
   ],
   "source": [
    "odd"
   ]
  },
  {
   "cell_type": "code",
   "execution_count": 27,
   "metadata": {},
   "outputs": [
    {
     "data": {
      "text/plain": [
       "[1, 3, 5, 7, 9, 11, 13, 15, ['a', 'b', 'c']]"
      ]
     },
     "execution_count": 27,
     "metadata": {},
     "output_type": "execute_result"
    }
   ],
   "source": [
    "odd.append(['a','b','c'])#append list\n",
    "odd"
   ]
  },
  {
   "cell_type": "code",
   "execution_count": 28,
   "metadata": {},
   "outputs": [
    {
     "data": {
      "text/plain": [
       "[1, 3, 5, 'ajantha', 7, 9, 11, 13, 15, ['a', 'b', 'c']]"
      ]
     },
     "execution_count": 28,
     "metadata": {},
     "output_type": "execute_result"
    }
   ],
   "source": [
    "odd.insert(3, \"ajantha\")\n",
    "odd"
   ]
  },
  {
   "cell_type": "code",
   "execution_count": 29,
   "metadata": {},
   "outputs": [
    {
     "data": {
      "text/plain": [
       "[1, 2, 3, 5, 6, 7]"
      ]
     },
     "execution_count": 29,
     "metadata": {},
     "output_type": "execute_result"
    }
   ],
   "source": [
    "l1 = [1,2,3]\n",
    "l2 = [5,6,7]\n",
    "l1+l2 # add to list ele "
   ]
  },
  {
   "cell_type": "code",
   "execution_count": 30,
   "metadata": {},
   "outputs": [
    {
     "data": {
      "text/plain": [
       "[1, 2, 3, 1, 2, 3, 1, 2, 3]"
      ]
     },
     "execution_count": 30,
     "metadata": {},
     "output_type": "execute_result"
    }
   ],
   "source": [
    "l1 * 3 # repli of ele"
   ]
  },
  {
   "cell_type": "code",
   "execution_count": null,
   "metadata": {},
   "outputs": [],
   "source": []
  },
  {
   "cell_type": "markdown",
   "metadata": {},
   "source": [
    "### Delete/Remove List Elements\n",
    "\n",
    "We can delete one or more items from a list using the keyword **`del`**. It can even delete the list entirely."
   ]
  },
  {
   "cell_type": "code",
   "execution_count": 31,
   "metadata": {},
   "outputs": [
    {
     "data": {
      "text/plain": [
       "[1, 2, 3, 4, 1, 2, 3, 4]"
      ]
     },
     "execution_count": 31,
     "metadata": {},
     "output_type": "execute_result"
    }
   ],
   "source": [
    "l1 = [1,2,3,4,1,2,3,4]\n",
    "l1"
   ]
  },
  {
   "cell_type": "code",
   "execution_count": 32,
   "metadata": {},
   "outputs": [
    {
     "data": {
      "text/plain": [
       "[2, 3, 4, 1, 2, 3, 4]"
      ]
     },
     "execution_count": 32,
     "metadata": {},
     "output_type": "execute_result"
    }
   ],
   "source": [
    "l1.remove(1)\n",
    "l1"
   ]
  },
  {
   "cell_type": "code",
   "execution_count": 33,
   "metadata": {},
   "outputs": [
    {
     "data": {
      "text/plain": [
       "[2, 3, 1, 2, 3, 4]"
      ]
     },
     "execution_count": 33,
     "metadata": {},
     "output_type": "execute_result"
    }
   ],
   "source": [
    "l1.remove(4)\n",
    "l1"
   ]
  },
  {
   "cell_type": "code",
   "execution_count": 34,
   "metadata": {},
   "outputs": [
    {
     "data": {
      "text/plain": [
       "[2, 3, 1, 2, 3, 4]"
      ]
     },
     "execution_count": 34,
     "metadata": {},
     "output_type": "execute_result"
    }
   ],
   "source": [
    "l1"
   ]
  },
  {
   "cell_type": "code",
   "execution_count": 35,
   "metadata": {},
   "outputs": [
    {
     "data": {
      "text/plain": [
       "4"
      ]
     },
     "execution_count": 35,
     "metadata": {},
     "output_type": "execute_result"
    }
   ],
   "source": [
    "l1.pop()"
   ]
  },
  {
   "cell_type": "code",
   "execution_count": 36,
   "metadata": {},
   "outputs": [
    {
     "data": {
      "text/plain": [
       "[2, 3, 1, 2, 3]"
      ]
     },
     "execution_count": 36,
     "metadata": {},
     "output_type": "execute_result"
    }
   ],
   "source": [
    "l1"
   ]
  },
  {
   "cell_type": "code",
   "execution_count": 37,
   "metadata": {},
   "outputs": [
    {
     "data": {
      "text/plain": [
       "[1, 3, 5, 'ajantha', 7, 9, 11, 13, 15, ['a', 'b', 'c']]"
      ]
     },
     "execution_count": 37,
     "metadata": {},
     "output_type": "execute_result"
    }
   ],
   "source": [
    "odd"
   ]
  },
  {
   "cell_type": "code",
   "execution_count": 38,
   "metadata": {},
   "outputs": [],
   "source": [
    "l4 = odd.pop()"
   ]
  },
  {
   "cell_type": "code",
   "execution_count": 39,
   "metadata": {},
   "outputs": [
    {
     "data": {
      "text/plain": [
       "[1, 3, 5, 'ajantha', 7, 9, 11, 13, 15]"
      ]
     },
     "execution_count": 39,
     "metadata": {},
     "output_type": "execute_result"
    }
   ],
   "source": [
    "odd"
   ]
  },
  {
   "cell_type": "code",
   "execution_count": 40,
   "metadata": {},
   "outputs": [
    {
     "data": {
      "text/plain": [
       "['a', 'b', 'c']"
      ]
     },
     "execution_count": 40,
     "metadata": {},
     "output_type": "execute_result"
    }
   ],
   "source": [
    "l4"
   ]
  },
  {
   "cell_type": "code",
   "execution_count": null,
   "metadata": {},
   "outputs": [],
   "source": []
  },
  {
   "cell_type": "markdown",
   "metadata": {},
   "source": [
    "##  Python Built-in List Functions\n",
    "\n",
    "Built-in functions like **`all()`**, **`any()`**, **`sorted()`**, **`min()`**, **`max()`**, **`len()`**, **`cmp()`**, **`list()`**, etc. are commonly used with dictionaries to perform different tasks.\n"
   ]
  },
  {
   "cell_type": "markdown",
   "metadata": {},
   "source": [
    "### **`all(list)`** - The method all() method returns True when all elements in the given iterable are true. If not, it returns False."
   ]
  },
  {
   "cell_type": "code",
   "execution_count": 41,
   "metadata": {
    "ExecuteTime": {
     "end_time": "2021-10-03T09:17:31.630720Z",
     "start_time": "2021-10-03T09:17:31.611193Z"
    },
    "scrolled": true
   },
   "outputs": [
    {
     "name": "stdout",
     "output_type": "stream",
     "text": [
      "True\n"
     ]
    }
   ],
   "source": [
    "# Example: How all() works for lists?\n",
    "\n",
    "l = [1, 3, 4, 5]\n",
    "print(all(l))  # ▶ True ∵ all values true\n",
    "\n"
   ]
  },
  {
   "cell_type": "code",
   "execution_count": 42,
   "metadata": {},
   "outputs": [
    {
     "name": "stdout",
     "output_type": "stream",
     "text": [
      "False\n"
     ]
    }
   ],
   "source": [
    "l = [0, False]\n",
    "print(all(l))  # ▶ False ∵ all values false\n"
   ]
  },
  {
   "cell_type": "code",
   "execution_count": 43,
   "metadata": {},
   "outputs": [
    {
     "name": "stdout",
     "output_type": "stream",
     "text": [
      "False\n"
     ]
    }
   ],
   "source": [
    "\n",
    "l = [1, 3, 4, 0]\n",
    "print(all(l))  # ▶ False ∵ one false value\n"
   ]
  },
  {
   "cell_type": "code",
   "execution_count": 44,
   "metadata": {},
   "outputs": [
    {
     "name": "stdout",
     "output_type": "stream",
     "text": [
      "False\n"
     ]
    }
   ],
   "source": [
    "\n",
    "l = [0, False, 5]\n",
    "print(all(l))  # ▶ False ∵ one true value\n"
   ]
  },
  {
   "cell_type": "code",
   "execution_count": 45,
   "metadata": {},
   "outputs": [
    {
     "name": "stdout",
     "output_type": "stream",
     "text": [
      "True\n"
     ]
    }
   ],
   "source": [
    "\n",
    "l = []\n",
    "print(all(l))  # ▶ True ∵ empty iterable"
   ]
  },
  {
   "cell_type": "code",
   "execution_count": null,
   "metadata": {},
   "outputs": [],
   "source": []
  },
  {
   "cell_type": "markdown",
   "metadata": {},
   "source": [
    "### **`any(list)`** - any() function returns True if any element of an iterable is True. If not, any() returns False."
   ]
  },
  {
   "cell_type": "code",
   "execution_count": 46,
   "metadata": {
    "ExecuteTime": {
     "end_time": "2021-10-03T09:17:32.042343Z",
     "start_time": "2021-10-03T09:17:32.019888Z"
    },
    "scrolled": true
   },
   "outputs": [
    {
     "name": "stdout",
     "output_type": "stream",
     "text": [
      "True\n"
     ]
    }
   ],
   "source": [
    "# Example: True since 1,3 and 4 (at least one) is true\n",
    "\n",
    "l = [1, 3, 4, 0]\n",
    "print(any(l))  # ▶ True \n",
    "\n"
   ]
  },
  {
   "cell_type": "code",
   "execution_count": 47,
   "metadata": {},
   "outputs": [
    {
     "name": "stdout",
     "output_type": "stream",
     "text": [
      "False\n"
     ]
    }
   ],
   "source": [
    "l = [0, False]\n",
    "print(any(l))  # ▶ False ∵ both are False\n"
   ]
  },
  {
   "cell_type": "code",
   "execution_count": 48,
   "metadata": {},
   "outputs": [
    {
     "name": "stdout",
     "output_type": "stream",
     "text": [
      "True\n"
     ]
    }
   ],
   "source": [
    "\n",
    "l = [0, False, 5]\n",
    "print(any(l))  # ▶ True ∵ 5 is true\n",
    "\n"
   ]
  },
  {
   "cell_type": "code",
   "execution_count": 49,
   "metadata": {},
   "outputs": [
    {
     "name": "stdout",
     "output_type": "stream",
     "text": [
      "False\n"
     ]
    }
   ],
   "source": [
    "l = []\n",
    "print(any(l))  # ▶ False ∵ iterable is empty"
   ]
  },
  {
   "cell_type": "code",
   "execution_count": null,
   "metadata": {},
   "outputs": [],
   "source": []
  },
  {
   "cell_type": "markdown",
   "metadata": {},
   "source": [
    "### **`sorted(dict)`** - The sorted() function sorts the elements of a given iterable in a specific order (either **ascending** or **descending**) and returns the sorted iterable as a list."
   ]
  },
  {
   "cell_type": "code",
   "execution_count": 50,
   "metadata": {
    "ExecuteTime": {
     "end_time": "2021-10-03T09:17:32.452016Z",
     "start_time": "2021-10-03T09:17:32.443229Z"
    }
   },
   "outputs": [
    {
     "name": "stdout",
     "output_type": "stream",
     "text": [
      "['a', 'e', 'i', 'o', 'u']\n"
     ]
    }
   ],
   "source": [
    "# Example: vowels list\n",
    "\n",
    "py_list = ['e', 'a', 'u', 'o', 'i']\n",
    "print(sorted(py_list))                # ▶ ['a', 'e', 'i', 'o', 'u']\n"
   ]
  },
  {
   "cell_type": "code",
   "execution_count": 51,
   "metadata": {},
   "outputs": [
    {
     "name": "stdout",
     "output_type": "stream",
     "text": [
      "['u', 'o', 'i', 'e', 'a']\n"
     ]
    }
   ],
   "source": [
    "print(sorted(py_list, reverse=True))  # ▶ ['u', 'o', 'i', 'e', 'a']"
   ]
  },
  {
   "cell_type": "markdown",
   "metadata": {},
   "source": [
    "### **`min(list)`** - this method is used to get min value from the list. In Python3 lists element's type should be same otherwise compiler throw type Error. "
   ]
  },
  {
   "cell_type": "code",
   "execution_count": 52,
   "metadata": {
    "ExecuteTime": {
     "end_time": "2021-10-03T09:17:33.100459Z",
     "start_time": "2021-10-03T09:17:33.083858Z"
    }
   },
   "outputs": [
    {
     "name": "stdout",
     "output_type": "stream",
     "text": [
      "a\n",
      "1\n"
     ]
    }
   ],
   "source": [
    "# Example:\n",
    "\n",
    "list1 = ['a','b','c']\n",
    "list2 = [1,2,3]\n",
    "\n",
    "\n",
    "print(min(list1))  # ▶ a \n",
    "print(min(list2))  # ▶ 1\n"
   ]
  },
  {
   "cell_type": "code",
   "execution_count": 53,
   "metadata": {},
   "outputs": [
    {
     "ename": "TypeError",
     "evalue": "'<' not supported between instances of 'int' and 'str'",
     "output_type": "error",
     "traceback": [
      "\u001b[1;31m---------------------------------------------------------------------------\u001b[0m",
      "\u001b[1;31mTypeError\u001b[0m                                 Traceback (most recent call last)",
      "\u001b[1;32m~\\AppData\\Local\\Temp\\ipykernel_16848\\3178008907.py\u001b[0m in \u001b[0;36m<module>\u001b[1;34m\u001b[0m\n\u001b[0;32m      1\u001b[0m \u001b[0mlist3\u001b[0m\u001b[1;33m=\u001b[0m\u001b[1;33m[\u001b[0m\u001b[1;34m'a'\u001b[0m\u001b[1;33m,\u001b[0m\u001b[1;34m'b'\u001b[0m\u001b[1;33m,\u001b[0m\u001b[1;34m'c'\u001b[0m\u001b[1;33m,\u001b[0m\u001b[1;36m1\u001b[0m\u001b[1;33m,\u001b[0m\u001b[1;36m2\u001b[0m\u001b[1;33m,\u001b[0m\u001b[1;36m3\u001b[0m\u001b[1;33m]\u001b[0m\u001b[1;33m\u001b[0m\u001b[1;33m\u001b[0m\u001b[0m\n\u001b[1;32m----> 2\u001b[1;33m \u001b[0mprint\u001b[0m\u001b[1;33m(\u001b[0m\u001b[0mmin\u001b[0m\u001b[1;33m(\u001b[0m\u001b[0mlist3\u001b[0m\u001b[1;33m)\u001b[0m\u001b[1;33m)\u001b[0m  \u001b[1;31m# ▶ TypeError: '<' not supported between instances of 'int' and 'str'\u001b[0m\u001b[1;33m\u001b[0m\u001b[1;33m\u001b[0m\u001b[0m\n\u001b[0m",
      "\u001b[1;31mTypeError\u001b[0m: '<' not supported between instances of 'int' and 'str'"
     ]
    }
   ],
   "source": [
    "list3=['a','b','c',1,2,3]\n",
    "print(min(list3))  # ▶ TypeError: '<' not supported between instances of 'int' and 'str'"
   ]
  },
  {
   "cell_type": "markdown",
   "metadata": {},
   "source": [
    "### **`max(list)`** - The max() method returns the elements from the list with maximum value."
   ]
  },
  {
   "cell_type": "code",
   "execution_count": 54,
   "metadata": {
    "ExecuteTime": {
     "end_time": "2021-10-03T09:17:33.916867Z",
     "start_time": "2021-10-03T09:17:33.835816Z"
    }
   },
   "outputs": [
    {
     "name": "stdout",
     "output_type": "stream",
     "text": [
      "c\n",
      "3\n"
     ]
    },
    {
     "ename": "TypeError",
     "evalue": "'>' not supported between instances of 'int' and 'str'",
     "output_type": "error",
     "traceback": [
      "\u001b[1;31m---------------------------------------------------------------------------\u001b[0m",
      "\u001b[1;31mTypeError\u001b[0m                                 Traceback (most recent call last)",
      "\u001b[1;32m~\\AppData\\Local\\Temp\\ipykernel_16848\\1062949187.py\u001b[0m in \u001b[0;36m<module>\u001b[1;34m\u001b[0m\n\u001b[0;32m      7\u001b[0m \u001b[0mprint\u001b[0m\u001b[1;33m(\u001b[0m\u001b[0mmax\u001b[0m\u001b[1;33m(\u001b[0m\u001b[0mlist1\u001b[0m\u001b[1;33m)\u001b[0m\u001b[1;33m)\u001b[0m  \u001b[1;31m# ▶ c\u001b[0m\u001b[1;33m\u001b[0m\u001b[1;33m\u001b[0m\u001b[0m\n\u001b[0;32m      8\u001b[0m \u001b[0mprint\u001b[0m\u001b[1;33m(\u001b[0m\u001b[0mmax\u001b[0m\u001b[1;33m(\u001b[0m\u001b[0mlist2\u001b[0m\u001b[1;33m)\u001b[0m\u001b[1;33m)\u001b[0m  \u001b[1;31m# ▶ 3\u001b[0m\u001b[1;33m\u001b[0m\u001b[1;33m\u001b[0m\u001b[0m\n\u001b[1;32m----> 9\u001b[1;33m \u001b[0mprint\u001b[0m\u001b[1;33m(\u001b[0m\u001b[0mmax\u001b[0m\u001b[1;33m(\u001b[0m\u001b[0mlist3\u001b[0m\u001b[1;33m)\u001b[0m\u001b[1;33m)\u001b[0m  \u001b[1;31m# ▶ TypeError: '>' not supported between instances of 'int' and 'str'\u001b[0m\u001b[1;33m\u001b[0m\u001b[1;33m\u001b[0m\u001b[0m\n\u001b[0m",
      "\u001b[1;31mTypeError\u001b[0m: '>' not supported between instances of 'int' and 'str'"
     ]
    }
   ],
   "source": [
    "# Example:\n",
    "\n",
    "list1 = ['a','b','c']\n",
    "list2 = [1,2,3]\n",
    "list3=['a','b','c',1,2,3]\n",
    "\n",
    "print(max(list1))  # ▶ c\n",
    "print(max(list2))  # ▶ 3\n",
    "print(max(list3))  # ▶ TypeError: '>' not supported between instances of 'int' and 'str'"
   ]
  },
  {
   "cell_type": "markdown",
   "metadata": {},
   "source": [
    "### **`len(list)`** - The len() method returns the number of elements in the list."
   ]
  },
  {
   "cell_type": "code",
   "execution_count": 55,
   "metadata": {
    "ExecuteTime": {
     "end_time": "2021-10-03T09:17:34.543827Z",
     "start_time": "2021-10-03T09:17:34.522832Z"
    }
   },
   "outputs": [
    {
     "name": "stdout",
     "output_type": "stream",
     "text": [
      "3\n",
      "0\n",
      "6\n"
     ]
    }
   ],
   "source": [
    "# Example:\n",
    "\n",
    "list1 = ['a','b','c']\n",
    "list2 = []\n",
    "list3=['a','b','c',1,2,3]\n",
    "\n",
    "print(len(list1))  # ▶ 3\n",
    "print(len(list2))  # ▶ 0\n",
    "print(len(list3))  # ▶ 6"
   ]
  },
  {
   "cell_type": "markdown",
   "metadata": {},
   "source": [
    "## Other List Operations in Python"
   ]
  },
  {
   "cell_type": "markdown",
   "metadata": {},
   "source": [
    "### 1. List Membership Test\n",
    "\n",
    "We can test if an item exists in a list or not, using the keyword **`in`**."
   ]
  },
  {
   "cell_type": "code",
   "execution_count": 56,
   "metadata": {
    "ExecuteTime": {
     "end_time": "2021-10-03T09:17:44.394469Z",
     "start_time": "2021-10-03T09:17:44.376895Z"
    }
   },
   "outputs": [
    {
     "name": "stdout",
     "output_type": "stream",
     "text": [
      "True\n",
      "False\n",
      "True\n"
     ]
    }
   ],
   "source": [
    "my_list = ['p', 'r', 'o', 'b', 'l', 'e', 'm']\n",
    "\n",
    "# Output: True\n",
    "print('p' in my_list)  # ▶ True\n",
    "\n",
    "# Output: False\n",
    "print('a' in my_list)  # ▶ False\n",
    "\n",
    "# Output: True\n",
    "print('c' not in my_list)  # ▶ True"
   ]
  },
  {
   "cell_type": "markdown",
   "metadata": {},
   "source": [
    "## 💻 Exercises  ➞ <span class='label label-default'>List</span>\n",
    "\n",
    "### Exercises ➞ <span class='label label-default'>Level 1</span>\n",
    "\n",
    "1. Declare a list with more than 5 items with different data types\n",
    "2. Find the length of your list\n",
    "3. Get the first item, the middle item and the last item of the list\n",
    "4. Declare a list **`called my_info`**, put your (name, age, height, marital status, country)\n",
    "5. Declare a list variable named **`mix_fruits`** and assign initial values Guava, Mango, Apple, Pear, Fig, Orange and Banana and print the list.\n",
    "6. Print the list using print()\n",
    "7. Print the number of **`mix_fruits`** in the list\n",
    "8. Print the first, middle and last fruit\n",
    "9. Print the list after modifying one of the fruit\n",
    "10. Add an fruit to variable **`mix_fruits`**\n",
    "11. Insert an fruit in the middle of the **`mix_fruits`** list\n",
    "12. Change one of the fruit names to uppercase\n",
    "13. Join the elements in **`mix_fruits`** with a string **`-#-`**\n",
    "14. Check if a certain fruit exists in the **`mix_fruits`** list.\n",
    "15. Sort the list using sort() method\n",
    "16. Reverse the list in descending order using reverse() method\n",
    "17. Slice out the first 3 fruits from the list\n",
    "18. Slice out the last 3 fruits from the list\n",
    "19. Slice out the middle fruit or fruits from the list\n",
    "20. Remove the first fruit from the list\n",
    "21. Remove the middle fruit or companies from the list\n",
    "22. Remove the last fruit from the list\n",
    "23. Remove all fruits from the list\n",
    "24. Delete the fruits list\n",
    "25. Join the following lists:\n",
    "\n",
    "    - ```py\n",
    "    front_end = ['HTML', 'CSS', 'JS', 'React', 'Redux']\n",
    "    back_end = ['Node','Express', 'MongoDB']\n",
    "    ```\n",
    "\n",
    "26. After joining the lists in question 25. Copy the joined list and assign it to a variable full_stack. Then insert **`'Python'`** and **`'SQL'`** after **`'Redux'`**.\n",
    "\n",
    "### Exercises ➞ <span class='label label-default'>Level 2</span>\n",
    "\n",
    "1. The following is a list of 10 students ages:\n",
    "\n",
    "    - ```py\n",
    "ages = [19, 23, 19, 25, 21, 20, 25, 26, 25, 24]\n",
    "    ```\n",
    "\n",
    "        - Sort the list and find the min and max age\n",
    "        - Add the min age and the max age again to the list\n",
    "        - Find the median age (one middle item or two middle items divided by two)\n",
    "        - Find the average age (sum of all items divided by their number )\n",
    "        - Find the range of the ages (max - min)\n",
    "        - Compare the value of (min - average) and (max - average), use abs() method\n"
   ]
  },
  {
   "cell_type": "code",
   "execution_count": null,
   "metadata": {},
   "outputs": [],
   "source": []
  }
 ],
 "metadata": {
  "hide_input": false,
  "kernelspec": {
   "display_name": "Python 3 (ipykernel)",
   "language": "python",
   "name": "python3"
  },
  "language_info": {
   "codemirror_mode": {
    "name": "ipython",
    "version": 3
   },
   "file_extension": ".py",
   "mimetype": "text/x-python",
   "name": "python",
   "nbconvert_exporter": "python",
   "pygments_lexer": "ipython3",
   "version": "3.9.13"
  },
  "toc": {
   "base_numbering": 1,
   "nav_menu": {},
   "number_sections": true,
   "sideBar": true,
   "skip_h1_title": false,
   "title_cell": "Table of Contents",
   "title_sidebar": "Contents",
   "toc_cell": false,
   "toc_position": {},
   "toc_section_display": true,
   "toc_window_display": false
  },
  "varInspector": {
   "cols": {
    "lenName": 16,
    "lenType": 16,
    "lenVar": 40
   },
   "kernels_config": {
    "python": {
     "delete_cmd_postfix": "",
     "delete_cmd_prefix": "del ",
     "library": "var_list.py",
     "varRefreshCmd": "print(var_dic_list())"
    },
    "r": {
     "delete_cmd_postfix": ") ",
     "delete_cmd_prefix": "rm(",
     "library": "var_list.r",
     "varRefreshCmd": "cat(var_dic_list()) "
    }
   },
   "types_to_exclude": [
    "module",
    "function",
    "builtin_function_or_method",
    "instance",
    "_Feature"
   ],
   "window_display": false
  }
 },
 "nbformat": 4,
 "nbformat_minor": 2
}
